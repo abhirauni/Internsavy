{
 "cells": [
  {
   "cell_type": "markdown",
   "id": "aac5eb02-42f6-4a49-a982-46fd11450b90",
   "metadata": {},
   "source": [
    "# (1)Importing Libaries"
   ]
  },
  {
   "cell_type": "code",
   "execution_count": 1,
   "id": "176ee940-2e14-44f8-9091-9d156f5e5978",
   "metadata": {
    "tags": []
   },
   "outputs": [],
   "source": [
    "import pandas as pd \n",
    "import numpy as np\n",
    "import matplotlib.pyplot as plt\n",
    "import seaborn as sng\n"
   ]
  },
  {
   "cell_type": "markdown",
   "id": "870c122e-5ccc-40b5-8234-f662ebd78fcc",
   "metadata": {
    "tags": []
   },
   "source": [
    "# (2)Walkthrough the data set"
   ]
  },
  {
   "cell_type": "code",
   "execution_count": 2,
   "id": "a5b3fc62-f5ab-4a60-af64-2655e20f814a",
   "metadata": {
    "tags": []
   },
   "outputs": [
    {
     "data": {
      "text/html": [
       "<div>\n",
       "<style scoped>\n",
       "    .dataframe tbody tr th:only-of-type {\n",
       "        vertical-align: middle;\n",
       "    }\n",
       "\n",
       "    .dataframe tbody tr th {\n",
       "        vertical-align: top;\n",
       "    }\n",
       "\n",
       "    .dataframe thead th {\n",
       "        text-align: right;\n",
       "    }\n",
       "</style>\n",
       "<table border=\"1\" class=\"dataframe\">\n",
       "  <thead>\n",
       "    <tr style=\"text-align: right;\">\n",
       "      <th></th>\n",
       "      <th>CustomerID</th>\n",
       "      <th>Genre</th>\n",
       "      <th>Age</th>\n",
       "      <th>Annual Income (k$)</th>\n",
       "      <th>Spending Score (1-100)</th>\n",
       "    </tr>\n",
       "  </thead>\n",
       "  <tbody>\n",
       "    <tr>\n",
       "      <th>0</th>\n",
       "      <td>1</td>\n",
       "      <td>Male</td>\n",
       "      <td>19</td>\n",
       "      <td>15</td>\n",
       "      <td>39</td>\n",
       "    </tr>\n",
       "    <tr>\n",
       "      <th>1</th>\n",
       "      <td>2</td>\n",
       "      <td>Male</td>\n",
       "      <td>21</td>\n",
       "      <td>15</td>\n",
       "      <td>81</td>\n",
       "    </tr>\n",
       "    <tr>\n",
       "      <th>2</th>\n",
       "      <td>3</td>\n",
       "      <td>Female</td>\n",
       "      <td>20</td>\n",
       "      <td>16</td>\n",
       "      <td>6</td>\n",
       "    </tr>\n",
       "    <tr>\n",
       "      <th>3</th>\n",
       "      <td>4</td>\n",
       "      <td>Female</td>\n",
       "      <td>23</td>\n",
       "      <td>16</td>\n",
       "      <td>77</td>\n",
       "    </tr>\n",
       "    <tr>\n",
       "      <th>4</th>\n",
       "      <td>5</td>\n",
       "      <td>Female</td>\n",
       "      <td>31</td>\n",
       "      <td>17</td>\n",
       "      <td>40</td>\n",
       "    </tr>\n",
       "  </tbody>\n",
       "</table>\n",
       "</div>"
      ],
      "text/plain": [
       "   CustomerID   Genre  Age  Annual Income (k$)  Spending Score (1-100)\n",
       "0           1    Male   19                  15                      39\n",
       "1           2    Male   21                  15                      81\n",
       "2           3  Female   20                  16                       6\n",
       "3           4  Female   23                  16                      77\n",
       "4           5  Female   31                  17                      40"
      ]
     },
     "execution_count": 2,
     "metadata": {},
     "output_type": "execute_result"
    }
   ],
   "source": [
    "df=pd.read_csv(\"Mall_Customers.csv\")\n",
    "df.head()\n"
   ]
  },
  {
   "cell_type": "code",
   "execution_count": 3,
   "id": "b333ba47-a284-4516-a5a5-94f6bddad8b4",
   "metadata": {
    "tags": []
   },
   "outputs": [
    {
     "data": {
      "text/plain": [
       "(200, 5)"
      ]
     },
     "execution_count": 3,
     "metadata": {},
     "output_type": "execute_result"
    }
   ],
   "source": [
    "df.shape"
   ]
  },
  {
   "cell_type": "code",
   "execution_count": null,
   "id": "e9a6ee07-05fc-42fa-a1eb-aa4a90e2ba1a",
   "metadata": {
    "tags": []
   },
   "outputs": [
    {
     "name": "stdout",
     "output_type": "stream",
     "text": [
      "<class 'pandas.core.frame.DataFrame'>\n",
      "RangeIndex: 200 entries, 0 to 199\n",
      "Data columns (total 5 columns):\n",
      " #   Column                  Non-Null Count  Dtype \n",
      "---  ------                  --------------  ----- \n",
      " 0   CustomerID              200 non-null    int64 \n",
      " 1   Genre                   200 non-null    object\n",
      " 2   Age                     200 non-null    int64 \n",
      " 3   Annual Income (k$)      200 non-null    int64 \n",
      " 4   Spending Score (1-100)  200 non-null    int64 \n",
      "dtypes: int64(4), object(1)\n",
      "memory usage: 7.9+ KB\n"
     ]
    }
   ],
   "source": [
    "df.info()"
   ]
  },
  {
   "cell_type": "code",
   "execution_count": null,
   "id": "79602203-bee3-4f90-b142-ea21b7967580",
   "metadata": {
    "tags": []
   },
   "outputs": [],
   "source": [
    "df.isnull().sum()"
   ]
  },
  {
   "cell_type": "code",
   "execution_count": null,
   "id": "6c497ce8-f72e-4128-8d11-d026a12b9871",
   "metadata": {
    "tags": []
   },
   "outputs": [],
   "source": [
    "df.describe()"
   ]
  },
  {
   "cell_type": "markdown",
   "id": "d893728c-e6cb-42f3-b462-e1eec4bfc87d",
   "metadata": {},
   "source": [
    "# (3) Feature Engineering"
   ]
  },
  {
   "cell_type": "markdown",
   "id": "8248b4b2-bb93-41db-b16d-48ba4e0e3d82",
   "metadata": {},
   "source": [
    "### (3.1) Age Column"
   ]
  },
  {
   "cell_type": "code",
   "execution_count": null,
   "id": "ada0ddff-a774-4036-b748-23b3e29b148e",
   "metadata": {},
   "outputs": [],
   "source": [
    "df['AGE_GROUP']=df['Age'].apply(lambda x:'18-25' if x<26 else '26-40' if 25<x<41 else '41-55' if 40<x<56 else '55+' if 55<x else 0 )\n",
    "del df['Age']\n"
   ]
  },
  {
   "cell_type": "code",
   "execution_count": null,
   "id": "a86eacd4-d829-4f82-87cf-081b4164adaf",
   "metadata": {},
   "outputs": [],
   "source": [
    "df.head()"
   ]
  },
  {
   "cell_type": "markdown",
   "id": "eb1a21a1-e09f-498c-98b5-24b9c544acd2",
   "metadata": {},
   "source": [
    "### (3.2) Annual Income Column"
   ]
  },
  {
   "cell_type": "code",
   "execution_count": null,
   "id": "448a373c-3637-46b5-ba6a-ba0332112cc3",
   "metadata": {},
   "outputs": [],
   "source": [
    "df['Annual Income (k$)'].unique()"
   ]
  },
  {
   "cell_type": "code",
   "execution_count": null,
   "id": "c90b0ec8-5bbf-4bb2-b2c4-af5216e1ce4d",
   "metadata": {},
   "outputs": [],
   "source": [
    "df['Annual Income (k$)'].nunique()"
   ]
  },
  {
   "cell_type": "code",
   "execution_count": null,
   "id": "419e5072-f870-4d3a-920e-f2e1842b8ac7",
   "metadata": {},
   "outputs": [],
   "source": [
    "plt.hist(df['Annual Income (k$)'],color='blue',bins=8,edgecolor='black',alpha=0.8)"
   ]
  },
  {
   "cell_type": "code",
   "execution_count": null,
   "id": "b42fec01-27e8-410d-9d1f-04c659533544",
   "metadata": {},
   "outputs": [],
   "source": [
    "df['Income_Range']=df['Annual Income (k$)'].apply(lambda x:'15-25' if x<26 else '26-50' if 25<x<51 else '51-80' if 50<x<81 else '81-100' if 80<x<101 else '100+' if 100<x else 0)\n",
    "\n",
    "del df['Annual Income (k$)']"
   ]
  },
  {
   "cell_type": "code",
   "execution_count": null,
   "id": "1c42fce9-13b7-4ef9-bbe0-c2834e7ece48",
   "metadata": {},
   "outputs": [],
   "source": [
    "df.head()"
   ]
  },
  {
   "cell_type": "markdown",
   "id": "b54ef350-e5e5-4733-b402-d11eab7d2a76",
   "metadata": {},
   "source": [
    "### (3.3) Spending Score (1-100) Column"
   ]
  },
  {
   "cell_type": "code",
   "execution_count": null,
   "id": "2dcbadaa-89fb-4ead-87a5-a3270f0491b5",
   "metadata": {},
   "outputs": [],
   "source": [
    "df['Spending Score (1-100)'].unique()"
   ]
  },
  {
   "cell_type": "code",
   "execution_count": null,
   "id": "4833f2c5-48a6-43e3-a1fe-23ed2784c71f",
   "metadata": {},
   "outputs": [],
   "source": [
    "df['Spending Score (1-100)'].max()"
   ]
  },
  {
   "cell_type": "code",
   "execution_count": null,
   "id": "77b6b267-4722-46dc-8e34-f082d65b825c",
   "metadata": {},
   "outputs": [],
   "source": [
    "df['Spending Score (1-100)'].min()"
   ]
  },
  {
   "cell_type": "code",
   "execution_count": null,
   "id": "20926f84-a113-4830-8e23-325e2b79800f",
   "metadata": {},
   "outputs": [],
   "source": [
    "df['Score_Range']=df['Spending Score (1-100)'].apply(lambda x:'01-10' if x<11 else '11-30' if 10<x<31 else '31-60' if 30<x<61 else '61-80' if 60<x<81 else '81+' if 80<x else 0)\n",
    "\n",
    "del df['Spending Score (1-100)']"
   ]
  },
  {
   "cell_type": "code",
   "execution_count": null,
   "id": "897b6467-2d77-485d-8086-2356a467fbd4",
   "metadata": {},
   "outputs": [],
   "source": [
    "df.head()"
   ]
  },
  {
   "cell_type": "markdown",
   "id": "9e6f5a50-209f-4fd6-b76b-e274ad97214b",
   "metadata": {
    "tags": []
   },
   "source": [
    "# (4) Analyze the Genre Column"
   ]
  },
  {
   "cell_type": "code",
   "execution_count": null,
   "id": "44838f4c-6d19-4b7e-be53-d479b440ee27",
   "metadata": {
    "tags": []
   },
   "outputs": [],
   "source": [
    "df['Genre'].unique()"
   ]
  },
  {
   "cell_type": "code",
   "execution_count": null,
   "id": "c4cbea85-7c31-4da2-a8fc-82a70e48ad3f",
   "metadata": {
    "tags": []
   },
   "outputs": [],
   "source": [
    "df.groupby('Genre').size().plot(kind=\"pie\",autopct=\"%.2f%%\",figsize=(6,6),wedgeprops={\"edgecolor\":\"black\",\"linewidth\":3},title=\"PIE_CHART\")"
   ]
  },
  {
   "cell_type": "code",
   "execution_count": null,
   "id": "016b5902-1f71-4190-8150-cc7cf37a091c",
   "metadata": {
    "tags": []
   },
   "outputs": [],
   "source": [
    "df.groupby('Genre').size().plot(kind=\"bar\",figsize=(6,6),title=\"PIE_CHART\")"
   ]
  },
  {
   "cell_type": "markdown",
   "id": "8f6b6664-a690-4040-9fde-5afc8ed733c6",
   "metadata": {},
   "source": [
    "# (5) Analyze the AGE_GROUP Column"
   ]
  },
  {
   "cell_type": "code",
   "execution_count": null,
   "id": "b3c86cce-4c1c-4f75-85a9-fb5a182b15cd",
   "metadata": {},
   "outputs": [],
   "source": [
    "df['AGE_GROUP'].unique()"
   ]
  },
  {
   "cell_type": "code",
   "execution_count": null,
   "id": "295bdd5c-d63d-499c-bacf-f00f1206535b",
   "metadata": {
    "tags": []
   },
   "outputs": [],
   "source": [
    "df.groupby('AGE_GROUP').size().sort_values().plot(kind='bar')"
   ]
  },
  {
   "cell_type": "code",
   "execution_count": null,
   "id": "cf6cbcce-c12c-46c5-95ff-064e8b60a353",
   "metadata": {
    "tags": []
   },
   "outputs": [],
   "source": [
    "sng.set(rc={'figure.figsize':(10,5)})\n",
    "sng.countplot(x=df['AGE_GROUP'],hue=df['Genre'])"
   ]
  },
  {
   "cell_type": "code",
   "execution_count": null,
   "id": "e2ea76a3-1a08-4892-b4bc-d00e837ae44e",
   "metadata": {
    "tags": []
   },
   "outputs": [],
   "source": [
    "df.groupby('AGE_GROUP').size().sort_values().plot(kind='pie',autopct='%1.2f%%',wedgeprops={'edgecolor':'black','linewidth':3,'antialiased':True})"
   ]
  },
  {
   "cell_type": "markdown",
   "id": "6b90a3b4-e8c0-4a79-aafd-101c72799917",
   "metadata": {},
   "source": [
    "# (6) Analyze  Income_Range Column"
   ]
  },
  {
   "cell_type": "code",
   "execution_count": null,
   "id": "57267faa-2665-4ca7-8792-465f1fd17fe3",
   "metadata": {
    "tags": []
   },
   "outputs": [],
   "source": [
    "df['Income_Range'].unique()"
   ]
  },
  {
   "cell_type": "code",
   "execution_count": null,
   "id": "fcfb15ac-5984-4eb7-9209-5c53d280b08f",
   "metadata": {
    "tags": []
   },
   "outputs": [],
   "source": [
    "df.groupby('Income_Range').size().sort_values().plot(kind='bar')"
   ]
  },
  {
   "cell_type": "code",
   "execution_count": null,
   "id": "1a990830-e0df-43a7-a7e5-dc1418ebce64",
   "metadata": {
    "tags": []
   },
   "outputs": [],
   "source": [
    "df.groupby('Income_Range').size().sort_values().plot(kind='pie',autopct='%1.2f%%',wedgeprops={'edgecolor':'black','linewidth':3,'antialiased':True})"
   ]
  },
  {
   "cell_type": "code",
   "execution_count": null,
   "id": "ec5f99ca-580d-49e1-8e29-999351591287",
   "metadata": {
    "tags": []
   },
   "outputs": [],
   "source": [
    "sng.set(rc={'figure.figsize':(10,5)})\n",
    "sng.countplot(x=df['Income_Range'],hue=df['Genre'])"
   ]
  },
  {
   "cell_type": "code",
   "execution_count": null,
   "id": "3f64997e-55ed-43a7-b952-d0becf96399b",
   "metadata": {
    "tags": []
   },
   "outputs": [],
   "source": [
    "sng.set(rc={'figure.figsize':(10,5)})\n",
    "sng.countplot(x=df['Income_Range'],hue=df['AGE_GROUP'])"
   ]
  },
  {
   "cell_type": "markdown",
   "id": "749bf94b-ee4e-42c1-9eed-020fa172ac0e",
   "metadata": {},
   "source": [
    "# (7) Analyze Score_Range Column"
   ]
  },
  {
   "cell_type": "code",
   "execution_count": null,
   "id": "1072ff30-5736-461c-b750-a3b5b2293819",
   "metadata": {
    "tags": []
   },
   "outputs": [],
   "source": [
    "df['Score_Range'].unique()"
   ]
  },
  {
   "cell_type": "code",
   "execution_count": null,
   "id": "5140af79-e055-4612-9d86-457a7b0e1be9",
   "metadata": {
    "tags": []
   },
   "outputs": [],
   "source": [
    "df.groupby('Score_Range').size().sort_values().plot(kind='bar')"
   ]
  },
  {
   "cell_type": "code",
   "execution_count": null,
   "id": "03b0f23b-5571-43ad-8d96-266dfa346fab",
   "metadata": {
    "tags": []
   },
   "outputs": [],
   "source": [
    "df.groupby('Score_Range').size().sort_values().plot(kind='pie',autopct='%1.2f%%',wedgeprops={'edgecolor':'black','linewidth':3,'antialiased':True})"
   ]
  },
  {
   "cell_type": "code",
   "execution_count": null,
   "id": "7f8b600f-2418-41f8-ac02-ac78ceda9de7",
   "metadata": {
    "tags": []
   },
   "outputs": [],
   "source": [
    "sng.set(rc={'figure.figsize':(10,5)})\n",
    "sng.countplot(x=df['Score_Range'],hue=df['Genre'])"
   ]
  },
  {
   "cell_type": "code",
   "execution_count": null,
   "id": "a6acf743-082b-4a2a-951c-bd84b87f9bfe",
   "metadata": {
    "tags": []
   },
   "outputs": [],
   "source": [
    "sng.set(rc={'figure.figsize':(10,5)})\n",
    "sng.countplot(x=df['Score_Range'],hue=df['AGE_GROUP'])"
   ]
  }
 ],
 "metadata": {
  "kernelspec": {
   "display_name": "Python 3 (ipykernel)",
   "language": "python",
   "name": "python3"
  },
  "language_info": {
   "codemirror_mode": {
    "name": "ipython",
    "version": 3
   },
   "file_extension": ".py",
   "mimetype": "text/x-python",
   "name": "python",
   "nbconvert_exporter": "python",
   "pygments_lexer": "ipython3",
   "version": "3.11.4"
  }
 },
 "nbformat": 4,
 "nbformat_minor": 5
}
